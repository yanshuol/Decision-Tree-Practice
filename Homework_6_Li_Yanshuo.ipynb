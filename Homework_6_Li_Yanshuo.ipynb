{
  "nbformat": 4,
  "nbformat_minor": 0,
  "metadata": {
    "colab": {
      "name": "Homework 6_Li_Yanshuo.ipynb",
      "provenance": [],
      "collapsed_sections": [],
      "toc_visible": true
    },
    "kernelspec": {
      "name": "python3",
      "display_name": "Python 3"
    },
    "language_info": {
      "name": "python"
    }
  },
  "cells": [
    {
      "cell_type": "markdown",
      "metadata": {
        "id": "gJL_nLkdHYDy"
      },
      "source": [
        "# Homework 6 (30 marks)\n",
        "Create a copy of the notebook to start answering the questions. Name your notebook in the format HW6_lastname_firstname.ipynb to facilitate the grading process.\n",
        "\n",
        "Answer all the questions, test your code to ensure there are no errors and the results are as expected. Once you have answered all the questions, save the final copy, then go to File-> click on Download.ipynb. Once the local copy has been downloaded, submit your file on Blackboard under the corresponding assignment section. Also provide us a link to your notebook during submission.\n",
        "\n",
        "NOTE: Please give the TAs the permission to access your notebooks through the links you have provided during submission.\n",
        "\n",
        "The due date of this homework is 04/09/2021 (Friday).\n",
        "\n",
        "Please ensure you follow all the steps mentioned in the homework.\n",
        "\n",
        "You can submit your solutions any number of times until the deadline.\n",
        "\n",
        "The datasets used in this homework can be found in the google drive link below -\n",
        "\n",
        "https://drive.google.com/drive/folders/1NxCh4X7u7wVo5aHojxjLNs9wC7B7zJhb?usp=sharing\n",
        "\n",
        "Follow the necessary steps to import data to test your code. You can use any method to read your data in the notebook. We will not be grading the methods you use. We will only grade the code from the point where you read the dataset into a pandas dataframe - (pd.read_csv('file_name'))"
      ]
    },
    {
      "cell_type": "markdown",
      "metadata": {
        "id": "Zp3D8wIOH4bR"
      },
      "source": [
        "Import all the libraries you require in the cell below.\n",
        "\n"
      ]
    },
    {
      "cell_type": "code",
      "metadata": {
        "id": "72EyvzqAH6G_"
      },
      "source": [
        "# Enter your code here\n",
        "import numpy as np\n",
        "import pandas as pd\n",
        "import matplotlib.pyplot as plt\n",
        "import seaborn as sns\n",
        "from matplotlib.pyplot import figure\n",
        "from sklearn.model_selection import train_test_split\n",
        "from sklearn.linear_model import LinearRegression\n",
        "from sklearn.linear_model import Ridge\n",
        "from sklearn.linear_model import Lasso\n",
        "from sklearn.metrics import mean_squared_error\n",
        "from yellowbrick.regressor import ResidualsPlot\n",
        "from sklearn.model_selection import cross_val_score\n",
        "from sklearn.linear_model import LogisticRegression\n",
        "from sklearn.tree import DecisionTreeClassifier\n",
        "from sklearn import metrics\n",
        "from sklearn.metrics import classification_report\n",
        "from sklearn.metrics import confusion_matrix"
      ],
      "execution_count": 9,
      "outputs": []
    },
    {
      "cell_type": "markdown",
      "metadata": {
        "id": "TxCnZ-n3H0Wd"
      },
      "source": [
        "### 1. Build a classification model that predicts the edibility of mushrooms (class variable in the dataset). You have been provide with a dataset as a mushrooms.csv file. \n",
        "Here is a description of the attributes\n"
      ]
    },
    {
      "cell_type": "markdown",
      "metadata": {
        "id": "2WX2OwgOIHMd"
      },
      "source": [
        "Attribute description:\n",
        "1. cap-shape: bell=b,conical=c,convex=x,flat=f, knobbed=k,sunken=s \n",
        "2. cap-surface: fibrous=f,grooves=g,scaly=y,smooth=s \n",
        "3. cap-color: brown=n,buff=b,cinnamon=c,gray=g,green=r, pink=p,purple=u,red=e,white=w,yellow=y \n",
        "4. bruises?: bruises=t,no=f \n",
        "5. odor: almond=a,anise=l,creosote=c,fishy=y,foul=f, musty=m,none=n,pungent=p,spicy=s \n",
        "6. gill-attachment: attached=a,descending=d,free=f,notched=n \n",
        "7. gill-spacing: close=c,crowded=w,distant=d \n",
        "8. gill-size: broad=b,narrow=n \n",
        "9. gill-color: black=k,brown=n,buff=b,chocolate=h,gray=g, green=r,orange=o,pink=p,purple=u,red=e, white=w,yellow=y \n",
        "10. stalk-shape: enlarging=e,tapering=t \n",
        "11. stalk-root: bulbous=b,club=c,cup=u,equal=e, rhizomorphs=z,rooted=r,missing=? \n",
        "12. stalk-surface-above-ring: fibrous=f,scaly=y,silky=k,smooth=s \n",
        "13. stalk-surface-below-ring: fibrous=f,scaly=y,silky=k,smooth=s \n",
        "14. stalk-color-above-ring: brown=n,buff=b,cinnamon=c,gray=g,orange=o, pink=p,red=e,white=w,yellow=y \n",
        "15. stalk-color-below-ring: brown=n,buff=b,cinnamon=c,gray=g,orange=o, pink=p,red=e,white=w,yellow=y \n",
        "16. veil-type: partial=p,universal=u \n",
        "17. veil-color: brown=n,orange=o,white=w,yellow=y \n",
        "18. ring-number: none=n,one=o,two=t \n",
        "19. ring-type: cobwebby=c,evanescent=e,flaring=f,large=l, none=n,pendant=p,sheathing=s,zone=z \n",
        "20. spore-print-color: black=k,brown=n,buff=b,chocolate=h,green=r, orange=o,purple=u,white=w,yellow=y \n",
        "21. population: abundant=a,clustered=c,numerous=n, scattered=s,several=v,solitary=y \n",
        "22. habitat: grasses=g,leaves=l,meadows=m,paths=p, urban=u,waste=w,woods=d\n",
        "23. class: p = poisonous, e=edible\n"
      ]
    },
    {
      "cell_type": "markdown",
      "metadata": {
        "id": "LJeXdQymILSv"
      },
      "source": [
        "1. Build a classification tree. Random_state =2020. Training partition 0.7. stratify = y, max_depth = 6, use Entropy (8 marks)\n",
        "\n",
        "A. Read the dataset, explore it and determine what is the dependent variable (1 mark)\n",
        "\n",
        "B. Store the feature and target variable. (2 marks)\n",
        "\n",
        "C. Convert all categorical variables into dummy variables (1 mark)\n",
        "\n",
        "D. Partition the data into training and test sets (70/30) (1 mark)\n",
        "\n",
        "E. Fit the training data to a classification tree. (3 marks)"
      ]
    },
    {
      "cell_type": "code",
      "metadata": {
        "id": "Eme32RA0IKoR",
        "colab": {
          "base_uri": "https://localhost:8080/",
          "height": 265
        },
        "outputId": "6565585f-5e59-4d1c-8a5d-0e67c49d1d14"
      },
      "source": [
        "# Enter your code here\n",
        "# A. Read the dataset, explore it and determine what is the dependent variable\n",
        "data = pd.read_csv('mushrooms.csv')\n",
        "pd.set_option('display.max_columns', None)\n",
        "frame = pd.DataFrame(data)\n",
        "#print(frame.head())\n",
        "#print(frame.shape)\n",
        "#print(frame.describe())\n",
        "print(\"The dependent variable is 'class'.\")\n",
        "\n",
        "# B. Store the feature and target variable.\n",
        "X = frame.iloc[:, 1:]\n",
        "y = frame.iloc[:, 0]\n",
        "\n",
        "# C. Convert all categorical variables into dummy variables (1 mark)\n",
        "# frame1 = pd.get_dummies(frame)\n",
        "# frame1 = frame1.astype(float)\n",
        "# X = frame1.iloc[:, 1:]\n",
        "# y = frame1.iloc[:, 0]\n",
        "y = pd.get_dummies(y,drop_first=True)\n",
        "X = pd.get_dummies(X)\n",
        "\n",
        "# D. Partition the data into training and test sets (70/30) (1 mark)\n",
        "X_train, X_test, y_train, y_test = train_test_split(X, y, test_size=0.3, random_state=2020, stratify=y)\n",
        "\n",
        "# E. Fit the training data to a classification tree. (3 marks)\n",
        "from sklearn.tree import DecisionTreeClassifier\n",
        "dt = DecisionTreeClassifier(max_depth=6, criterion='entropy')\n",
        "dt.fit(X_train, y_train)\n",
        "y_pred = dt.predict(X_test)\n",
        "from sklearn import tree\n",
        "plt.figure(2)\n",
        "dtTree = tree.plot_tree(dt)\n",
        "plt.show()\n",
        "\n",
        "# or\n",
        "#dt = DecisionTreeClassifier(max_depth=6, criterion=\"entropy\", random_state=2020)\n",
        "#dt.fit(X_train,y_train)\n",
        "#ypred = dt.predict((X_test))\n",
        "#plt.show()\n",
        "#fn = X.columns\n",
        "#plt.figure(figsize=(12,12))\n",
        "#classList = list(map(str,dt.classes_.tolist()))\n",
        "#a = tree.plot_tree(dt, feature_names=fn, class_names=classList, filled=True)\n",
        "#plt.show()"
      ],
      "execution_count": 41,
      "outputs": [
        {
          "output_type": "stream",
          "text": [
            "The dependent variable is 'class'.\n"
          ],
          "name": "stdout"
        },
        {
          "output_type": "display_data",
          "data": {
            "image/png": "[encoded data removed]",
            "text/plain": [
              "<Figure size 432x288 with 1 Axes>"
            ]
          },
          "metadata": {
            "tags": [],
            "needs_background": "light"
          }
        }
      ]
    },
    {
      "cell_type": "markdown",
      "metadata": {
        "id": "YB-2YFsOIUah"
      },
      "source": [
        "2. Print the confusion matrix. \n",
        "Also visualize the confusion matrix using plot_confusion_matrix from sklearn.metrics (3 marks)\n",
        "\n"
      ]
    },
    {
      "cell_type": "code",
      "metadata": {
        "id": "VFwyLKzcRjyY",
        "colab": {
          "base_uri": "https://localhost:8080/",
          "height": 313
        },
        "outputId": "db6a8410-8271-4857-ff96-64d0b159c20b"
      },
      "source": [
        "# Enter your code here\n",
        "from sklearn import metrics\n",
        "cf = metrics.confusion_matrix(y_test, y_pred)\n",
        "print(cf)\n",
        "import matplotlib.pyplot as plt\n",
        "metrics.plot_confusion_matrix(dt, X_test, y_test)\n",
        "plt.show()"
      ],
      "execution_count": 42,
      "outputs": [
        {
          "output_type": "stream",
          "text": [
            "[[1263    0]\n",
            " [   3 1172]]\n"
          ],
          "name": "stdout"
        },
        {
          "output_type": "display_data",
          "data": {
            "image/png": "[encoded data removed]",
            "text/plain": [
              "<Figure size 432x288 with 2 Axes>"
            ]
          },
          "metadata": {
            "tags": [],
            "needs_background": "light"
          }
        }
      ]
    },
    {
      "cell_type": "markdown",
      "metadata": {
        "id": "yhdyvv48JFFd"
      },
      "source": [
        "3. Print the accuracy on the training partition?  (2 marks)\n"
      ]
    },
    {
      "cell_type": "code",
      "metadata": {
        "id": "WeQ9cOluRrL2",
        "colab": {
          "base_uri": "https://localhost:8080/"
        },
        "outputId": "7f24f421-59b3-40c4-c38d-864c430b61ac"
      },
      "source": [
        "# Enter your code here\n",
        "from sklearn.metrics import accuracy_score\n",
        "training_pred = dt.predict(X_train)\n",
        "print(\"Accuracy: \", accuracy_score(y_train, training_pred))"
      ],
      "execution_count": 43,
      "outputs": [
        {
          "output_type": "stream",
          "text": [
            "Accuracy:  1.0\n"
          ],
          "name": "stdout"
        }
      ]
    },
    {
      "cell_type": "markdown",
      "metadata": {
        "id": "_aH9TPFSJGv_"
      },
      "source": [
        "4. Print the accuracy on the test partition? (2 marks)\n"
      ]
    },
    {
      "cell_type": "code",
      "metadata": {
        "id": "U4eEWJCvRwSn",
        "colab": {
          "base_uri": "https://localhost:8080/"
        },
        "outputId": "d89d54b9-794d-4bb4-9804-3c6fabe2455b"
      },
      "source": [
        "# Enter your code here\n",
        "print('Accuracy =', metrics.accuracy_score(y_test, y_pred))"
      ],
      "execution_count": 44,
      "outputs": [
        {
          "output_type": "stream",
          "text": [
            "Accuracy = 0.9987694831829368\n"
          ],
          "name": "stdout"
        }
      ]
    },
    {
      "cell_type": "markdown",
      "metadata": {
        "id": "_cWbOP-3JIE0"
      },
      "source": [
        "5. Show the classification tree and save it (5 marks)\n"
      ]
    },
    {
      "cell_type": "code",
      "metadata": {
        "id": "LRuYQCeNR1Dn",
        "colab": {
          "base_uri": "https://localhost:8080/",
          "height": 248
        },
        "outputId": "d4a893a1-29c5-439c-f13e-c40ce4312985"
      },
      "source": [
        "# Enter your code here\n",
        "frame1 = pd.get_dummies(frame)\n",
        "frame1 = frame1.astype(str)\n",
        "X = frame1.iloc[:, 1:]\n",
        "y = frame1.iloc[:, 0]\n",
        "from sklearn import tree\n",
        "plt.figure(2)\n",
        "fn = X.columns\n",
        "cn = y.unique()\n",
        "frame = tree.plot_tree(dt, feature_names=fn, class_names=cn, filled=True)\n",
        "plt.savefig('mushroom.png')\n",
        "plt.show()"
      ],
      "execution_count": 45,
      "outputs": [
        {
          "output_type": "display_data",
          "data": {
            "image/png": "[encoded data removed]",
            "text/plain": [
              "<Figure size 432x288 with 1 Axes>"
            ]
          },
          "metadata": {
            "tags": [],
            "needs_background": "light"
          }
        }
      ]
    },
    {
      "cell_type": "markdown",
      "metadata": {
        "id": "a3fM0HMSJJl8"
      },
      "source": [
        "6. Find and print the top three most important features in your decision tree for determining toxicity. (4 marks)"
      ]
    },
    {
      "cell_type": "code",
      "metadata": {
        "id": "qTkc8ga1R6kd",
        "colab": {
          "base_uri": "https://localhost:8080/"
        },
        "outputId": "47a66e35-8223-41fa-e163-6bcb3c7d974d"
      },
      "source": [
        "# Enter your code here\n",
        "imp=pd.DataFrame(zip(X_train.columns, dt.feature_importances_))\n",
        "imp.sort_values(by=1, ascending=False)\n",
        "print(imp.head(3))"
      ],
      "execution_count": 46,
      "outputs": [
        {
          "output_type": "stream",
          "text": [
            "             0         1\n",
            "0  cap-shape_b  0.000000\n",
            "1  cap-shape_c  0.002229\n",
            "2  cap-shape_f  0.000000\n"
          ],
          "name": "stdout"
        }
      ]
    },
    {
      "cell_type": "markdown",
      "metadata": {
        "id": "uye7JohHJQmN"
      },
      "source": [
        "7. Classify the following mushroom. (6 marks)\n",
        "\n",
        "class\n",
        " : **?**\n",
        "\n",
        "cap-shape\n",
        ": **x**\n",
        "\n",
        "cap-surface\n",
        ": **s**\n",
        "\n",
        "cap-color\n",
        ": **n**\n",
        "\n",
        "bruises\n",
        ": **t**\n",
        "\n",
        "odor\n",
        ": **y**\n",
        "\n",
        "gill-attachment\n",
        ": **f**\n",
        "\n",
        "gill-spacing\n",
        ": **c**\n",
        "\n",
        "gill-size\n",
        ": **n**\n",
        "\n",
        "gill-color\n",
        ": **k**\n",
        "\n",
        "stalk-shape\n",
        ": **e**\n",
        "\n",
        "stalk-root\n",
        ": **e**\n",
        "\n",
        "stalk-surface-above-ring\n",
        ": **s**\n",
        "\n",
        "stalk-surface-below-ring\n",
        ": **s**\n",
        "\n",
        "stalk-color-above-ring\n",
        ": **w**\n",
        "\n",
        "stalk-color-below-ring\n",
        ": **w**\n",
        "\n",
        "veil-type\n",
        ": **p**\n",
        "\n",
        "veil-color\n",
        ": **w**\n",
        "\n",
        "ring-number\n",
        ": **o**\n",
        "\n",
        "ring-type\n",
        ": **p**\n",
        "\n",
        "spore-print-color\n",
        ": **r**\n",
        "\n",
        "population\n",
        ": **s**\n",
        "\n",
        "habitat\n",
        ": **u**\n",
        "\n"
      ]
    },
    {
      "cell_type": "code",
      "metadata": {
        "id": "PpQDyvJxrz2u"
      },
      "source": [
        "def output_result(result):\n",
        "  output = {}\n",
        "  for value in X_train.columns:\n",
        "    if value in enter:\n",
        "      output[value] = [0]\n",
        "    else:\n",
        "      output[value] = [1]\n",
        "  return pd.DataFrame(output)"
      ],
      "execution_count": 47,
      "outputs": []
    },
    {
      "cell_type": "code",
      "metadata": {
        "id": "jaLW4bhtSGjh",
        "colab": {
          "base_uri": "https://localhost:8080/"
        },
        "outputId": "8a551b41-6116-47f2-a29e-e5fdce28dca5"
      },
      "source": [
        "# Enter your code here\n",
        "#data[((data[\"cap-shape\"] == \"x\") & (data[\"cap-surface\"] == \"s\") & (data[\"cap-color\"] == \"n\") & (data[\"bruises\"] == \"t\") & (data[\"gill-attachment\"] == \"f\") & (data[\"gill-spacing\"] == \"c\") & (data[\"gill-size\"] == \"n\") & (data[\"gill-color\"] == \"k\") & (data[\"stalk-shape\"] == \"e\") & (data[\"stalk-root\"] == \"e\") & (data[\"stalk-surface-above-ring\"] == \"s\") & (data[\"stalk-surface-below-ring\"] == \"s\") & (data[\"stalk-color-above-ring\"] == \"w\") & (data[\"stalk-color-below-ring\"] == \"w\")  & (data[\"veil-type\"] == \"p\") & (data[\"veil-color\"] == \"w\") & (data[\"ring-number\"] == \"o\") & (data[\"ring-type\"] == \"p\") & (data[\"population\"] == \"s\") & (data[\"habitat\"] == \"u\") & (data[\"spore-print-color\"] == \"k\") & (data[\"odor\"] == \"p\"))]\n",
        "enter =  ['cap-shape_x', 'cap-surface_s', 'cap-color_n', 'bruises_t', 'odor_y', 'gill-attachment_f', 'gill-spacing_c', 'gill-size_n', 'gill-color_k', 'stalk-shape_e', 'stalk-root_e', 'stalk-surface-above-ring_s', 'stalk-surface-below-ring_s', 'stalk-color-above-ring_w', 'stalk-color-below-ring_w', 'veil-type_p', 'veil-color_w', 'ring-number_o', 'ring-type_p', 'spore-print-color_r', 'population_s', 'habitat_u']\n",
        "result = output_result(enter)\n",
        "print(dt.predict(result))\n",
        "if dt.predict(result)[0] == 0:\n",
        "  print(\"Poison\")\n",
        "else:\n",
        "  print('Edible')"
      ],
      "execution_count": 48,
      "outputs": [
        {
          "output_type": "stream",
          "text": [
            "[0]\n",
            "Poison\n"
          ],
          "name": "stdout"
        }
      ]
    }
  ]
}